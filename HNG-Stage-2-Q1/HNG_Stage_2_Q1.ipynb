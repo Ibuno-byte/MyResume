{
  "nbformat": 4,
  "nbformat_minor": 0,
  "metadata": {
    "colab": {
      "name": "HNG-Stage-2-Q1.ipynb",
      "provenance": []
    },
    "kernelspec": {
      "name": "python3",
      "display_name": "Python 3"
    },
    "language_info": {
      "name": "python"
    }
  },
  "cells": [
    {
      "cell_type": "code",
      "metadata": {
        "colab": {
          "base_uri": "https://localhost:8080/"
        },
        "id": "aSIzDS7ddTJ9",
        "outputId": "262b5f5c-afed-4e3a-ed2b-36d74a9a3f0d"
      },
      "source": [
        "print(\"My name is Ibuno Alex-Emako\") "
      ],
      "execution_count": 1,
      "outputs": [
        {
          "output_type": "stream",
          "text": [
            "My name is Ibuno Alex-Emako\n"
          ],
          "name": "stdout"
        }
      ]
    }
  ]
}